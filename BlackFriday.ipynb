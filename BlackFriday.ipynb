{
  "nbformat": 4,
  "nbformat_minor": 0,
  "metadata": {
    "colab": {
      "name": "BlackFriday.ipynb",
      "provenance": [],
      "collapsed_sections": [],
      "machine_shape": "hm"
    },
    "kernelspec": {
      "name": "python3",
      "display_name": "Python 3"
    }
  },
  "cells": [
    {
      "cell_type": "code",
      "metadata": {
        "id": "Gzq1BMqf9HOe",
        "colab_type": "code",
        "colab": {}
      },
      "source": [
        "import pandas as pd\n",
        "import numpy as np\n",
        "from sklearn import preprocessing\n",
        "label_encoder = preprocessing.LabelEncoder()\n",
        "from sklearn.model_selection import train_test_split\n",
        "from sklearn.linear_model import LinearRegression, Ridge, RidgeCV, Lasso, LassoCV, ElasticNet\n",
        "from sklearn.model_selection import cross_val_score, cross_val_predict\n",
        "from sklearn.metrics import r2_score\n",
        "import seaborn as sns\n",
        "import matplotlib.pyplot as plt\n",
        "from sklearn.tree import DecisionTreeRegressor\n",
        "from sklearn.model_selection import GridSearchCV\n",
        "from sklearn import preprocessing\n",
        "label_encoder = preprocessing.LabelEncoder()"
      ],
      "execution_count": 0,
      "outputs": []
    },
    {
      "cell_type": "code",
      "metadata": {
        "id": "of2pzH-e82_1",
        "colab_type": "code",
        "colab": {}
      },
      "source": [
        "train = pd.read_csv(\"train.csv\")\n",
        "test = pd.read_csv(\"test.csv\")"
      ],
      "execution_count": 0,
      "outputs": []
    },
    {
      "cell_type": "code",
      "metadata": {
        "id": "nu-USmUw9KaO",
        "colab_type": "code",
        "outputId": "144ea1c7-2334-42ba-9fed-4b567106206b",
        "colab": {
          "base_uri": "https://localhost:8080/",
          "height": 329
        }
      },
      "source": [
        "train.info()"
      ],
      "execution_count": 277,
      "outputs": [
        {
          "output_type": "stream",
          "text": [
            "<class 'pandas.core.frame.DataFrame'>\n",
            "RangeIndex: 550068 entries, 0 to 550067\n",
            "Data columns (total 12 columns):\n",
            "User_ID                       550068 non-null int64\n",
            "Product_ID                    550068 non-null object\n",
            "Gender                        550068 non-null object\n",
            "Age                           550068 non-null object\n",
            "Occupation                    550068 non-null int64\n",
            "City_Category                 550068 non-null object\n",
            "Stay_In_Current_City_Years    550068 non-null object\n",
            "Marital_Status                550068 non-null int64\n",
            "Product_Category_1            550068 non-null int64\n",
            "Product_Category_2            376430 non-null float64\n",
            "Product_Category_3            166821 non-null float64\n",
            "Purchase                      550068 non-null int64\n",
            "dtypes: float64(2), int64(5), object(5)\n",
            "memory usage: 50.4+ MB\n"
          ],
          "name": "stdout"
        }
      ]
    },
    {
      "cell_type": "code",
      "metadata": {
        "id": "C33VX3452Ict",
        "colab_type": "code",
        "colab": {}
      },
      "source": [
        "train['source']='train'\n",
        "test['source']='test'\n",
        "df = pd.concat([train,test], ignore_index = True, sort = False)"
      ],
      "execution_count": 0,
      "outputs": []
    },
    {
      "cell_type": "code",
      "metadata": {
        "id": "-wMB9gsB63jh",
        "colab_type": "code",
        "outputId": "239f5703-2966-4d8a-8fc3-9d7cecba8a35",
        "colab": {
          "base_uri": "https://localhost:8080/",
          "height": 54
        }
      },
      "source": [
        "print(df['User_ID'].nunique())\n",
        "print(df['Product_ID'].nunique())\n",
        "\n"
      ],
      "execution_count": 279,
      "outputs": [
        {
          "output_type": "stream",
          "text": [
            "5891\n",
            "3677\n"
          ],
          "name": "stdout"
        }
      ]
    },
    {
      "cell_type": "code",
      "metadata": {
        "id": "y_qYlEBZ7VeS",
        "colab_type": "code",
        "outputId": "fd2b16ac-185c-417b-ae24-378ee9238d4d",
        "colab": {
          "base_uri": "https://localhost:8080/",
          "height": 457
        }
      },
      "source": [
        "total = df.isnull().sum().sort_values(ascending=False)\n",
        "percent = (df.isnull().sum())/df.isnull().count().sort_values(ascending=False) * 100\n",
        "missing_df = pd.concat([total, percent], axis=1, keys=['Total','Percent'], sort=False).sort_values('Total', ascending=False)\n",
        "missing_df.head(20)\n"
      ],
      "execution_count": 280,
      "outputs": [
        {
          "output_type": "execute_result",
          "data": {
            "text/html": [
              "<div>\n",
              "<style scoped>\n",
              "    .dataframe tbody tr th:only-of-type {\n",
              "        vertical-align: middle;\n",
              "    }\n",
              "\n",
              "    .dataframe tbody tr th {\n",
              "        vertical-align: top;\n",
              "    }\n",
              "\n",
              "    .dataframe thead th {\n",
              "        text-align: right;\n",
              "    }\n",
              "</style>\n",
              "<table border=\"1\" class=\"dataframe\">\n",
              "  <thead>\n",
              "    <tr style=\"text-align: right;\">\n",
              "      <th></th>\n",
              "      <th>Total</th>\n",
              "      <th>Percent</th>\n",
              "    </tr>\n",
              "  </thead>\n",
              "  <tbody>\n",
              "    <tr>\n",
              "      <th>Product_Category_3</th>\n",
              "      <td>545809</td>\n",
              "      <td>69.648078</td>\n",
              "    </tr>\n",
              "    <tr>\n",
              "      <th>Product_Category_2</th>\n",
              "      <td>245982</td>\n",
              "      <td>31.388587</td>\n",
              "    </tr>\n",
              "    <tr>\n",
              "      <th>Purchase</th>\n",
              "      <td>233599</td>\n",
              "      <td>29.808452</td>\n",
              "    </tr>\n",
              "    <tr>\n",
              "      <th>source</th>\n",
              "      <td>0</td>\n",
              "      <td>0.000000</td>\n",
              "    </tr>\n",
              "    <tr>\n",
              "      <th>Product_Category_1</th>\n",
              "      <td>0</td>\n",
              "      <td>0.000000</td>\n",
              "    </tr>\n",
              "    <tr>\n",
              "      <th>Marital_Status</th>\n",
              "      <td>0</td>\n",
              "      <td>0.000000</td>\n",
              "    </tr>\n",
              "    <tr>\n",
              "      <th>Stay_In_Current_City_Years</th>\n",
              "      <td>0</td>\n",
              "      <td>0.000000</td>\n",
              "    </tr>\n",
              "    <tr>\n",
              "      <th>City_Category</th>\n",
              "      <td>0</td>\n",
              "      <td>0.000000</td>\n",
              "    </tr>\n",
              "    <tr>\n",
              "      <th>Occupation</th>\n",
              "      <td>0</td>\n",
              "      <td>0.000000</td>\n",
              "    </tr>\n",
              "    <tr>\n",
              "      <th>Age</th>\n",
              "      <td>0</td>\n",
              "      <td>0.000000</td>\n",
              "    </tr>\n",
              "    <tr>\n",
              "      <th>Gender</th>\n",
              "      <td>0</td>\n",
              "      <td>0.000000</td>\n",
              "    </tr>\n",
              "    <tr>\n",
              "      <th>Product_ID</th>\n",
              "      <td>0</td>\n",
              "      <td>0.000000</td>\n",
              "    </tr>\n",
              "    <tr>\n",
              "      <th>User_ID</th>\n",
              "      <td>0</td>\n",
              "      <td>0.000000</td>\n",
              "    </tr>\n",
              "  </tbody>\n",
              "</table>\n",
              "</div>"
            ],
            "text/plain": [
              "                             Total    Percent\n",
              "Product_Category_3          545809  69.648078\n",
              "Product_Category_2          245982  31.388587\n",
              "Purchase                    233599  29.808452\n",
              "source                           0   0.000000\n",
              "Product_Category_1               0   0.000000\n",
              "Marital_Status                   0   0.000000\n",
              "Stay_In_Current_City_Years       0   0.000000\n",
              "City_Category                    0   0.000000\n",
              "Occupation                       0   0.000000\n",
              "Age                              0   0.000000\n",
              "Gender                           0   0.000000\n",
              "Product_ID                       0   0.000000\n",
              "User_ID                          0   0.000000"
            ]
          },
          "metadata": {
            "tags": []
          },
          "execution_count": 280
        }
      ]
    },
    {
      "cell_type": "code",
      "metadata": {
        "id": "49yQbICh9Unn",
        "colab_type": "code",
        "colab": {}
      },
      "source": [
        "#Imputing Product Category 2 and 3 with 0 - Product belongs to no category from 2 and 3.\n",
        "df.Product_Category_2.fillna(value = 0, inplace = True)\n",
        "df.Product_Category_3.fillna(value = 0, inplace = True)\n",
        "#Dropping UID and PID as these are not useful features for regression\n",
        "df = df.drop(['User_ID','Product_ID'], axis=1)"
      ],
      "execution_count": 0,
      "outputs": []
    },
    {
      "cell_type": "code",
      "metadata": {
        "id": "Tb4XE7Fc9pAw",
        "colab_type": "code",
        "outputId": "4a450302-14bd-4dab-be7e-6b7197d67ecf",
        "colab": {
          "base_uri": "https://localhost:8080/",
          "height": 394
        }
      },
      "source": [
        "total = df.isnull().sum().sort_values(ascending=False)\n",
        "percent = (df.isnull().sum())/df.isnull().count().sort_values(ascending=False) * 100\n",
        "missing_df = pd.concat([total, percent], axis=1, keys=['Total','Percent'], sort=False).sort_values('Total', ascending=False)\n",
        "missing_df.head(20)"
      ],
      "execution_count": 282,
      "outputs": [
        {
          "output_type": "execute_result",
          "data": {
            "text/html": [
              "<div>\n",
              "<style scoped>\n",
              "    .dataframe tbody tr th:only-of-type {\n",
              "        vertical-align: middle;\n",
              "    }\n",
              "\n",
              "    .dataframe tbody tr th {\n",
              "        vertical-align: top;\n",
              "    }\n",
              "\n",
              "    .dataframe thead th {\n",
              "        text-align: right;\n",
              "    }\n",
              "</style>\n",
              "<table border=\"1\" class=\"dataframe\">\n",
              "  <thead>\n",
              "    <tr style=\"text-align: right;\">\n",
              "      <th></th>\n",
              "      <th>Total</th>\n",
              "      <th>Percent</th>\n",
              "    </tr>\n",
              "  </thead>\n",
              "  <tbody>\n",
              "    <tr>\n",
              "      <th>Purchase</th>\n",
              "      <td>233599</td>\n",
              "      <td>29.808452</td>\n",
              "    </tr>\n",
              "    <tr>\n",
              "      <th>source</th>\n",
              "      <td>0</td>\n",
              "      <td>0.000000</td>\n",
              "    </tr>\n",
              "    <tr>\n",
              "      <th>Product_Category_3</th>\n",
              "      <td>0</td>\n",
              "      <td>0.000000</td>\n",
              "    </tr>\n",
              "    <tr>\n",
              "      <th>Product_Category_2</th>\n",
              "      <td>0</td>\n",
              "      <td>0.000000</td>\n",
              "    </tr>\n",
              "    <tr>\n",
              "      <th>Product_Category_1</th>\n",
              "      <td>0</td>\n",
              "      <td>0.000000</td>\n",
              "    </tr>\n",
              "    <tr>\n",
              "      <th>Marital_Status</th>\n",
              "      <td>0</td>\n",
              "      <td>0.000000</td>\n",
              "    </tr>\n",
              "    <tr>\n",
              "      <th>Stay_In_Current_City_Years</th>\n",
              "      <td>0</td>\n",
              "      <td>0.000000</td>\n",
              "    </tr>\n",
              "    <tr>\n",
              "      <th>City_Category</th>\n",
              "      <td>0</td>\n",
              "      <td>0.000000</td>\n",
              "    </tr>\n",
              "    <tr>\n",
              "      <th>Occupation</th>\n",
              "      <td>0</td>\n",
              "      <td>0.000000</td>\n",
              "    </tr>\n",
              "    <tr>\n",
              "      <th>Age</th>\n",
              "      <td>0</td>\n",
              "      <td>0.000000</td>\n",
              "    </tr>\n",
              "    <tr>\n",
              "      <th>Gender</th>\n",
              "      <td>0</td>\n",
              "      <td>0.000000</td>\n",
              "    </tr>\n",
              "  </tbody>\n",
              "</table>\n",
              "</div>"
            ],
            "text/plain": [
              "                             Total    Percent\n",
              "Purchase                    233599  29.808452\n",
              "source                           0   0.000000\n",
              "Product_Category_3               0   0.000000\n",
              "Product_Category_2               0   0.000000\n",
              "Product_Category_1               0   0.000000\n",
              "Marital_Status                   0   0.000000\n",
              "Stay_In_Current_City_Years       0   0.000000\n",
              "City_Category                    0   0.000000\n",
              "Occupation                       0   0.000000\n",
              "Age                              0   0.000000\n",
              "Gender                           0   0.000000"
            ]
          },
          "metadata": {
            "tags": []
          },
          "execution_count": 282
        }
      ]
    },
    {
      "cell_type": "code",
      "metadata": {
        "id": "A8wk2bukCmXq",
        "colab_type": "code",
        "outputId": "dcf68f9c-5030-4d4d-f3fe-707e9f09b9ef",
        "colab": {
          "base_uri": "https://localhost:8080/",
          "height": 311
        }
      },
      "source": [
        "df.info()\n",
        "df_Gender = pd.get_dummies(df['Gender'])\n",
        "df_Age = pd.get_dummies(df['Age'])\n",
        "df_City_Category = pd.get_dummies(df['City_Category'])\n",
        "df_Stay_In_Current_City_Years = pd.get_dummies(df['Stay_In_Current_City_Years'])\n",
        "df_Occupation = pd.get_dummies(df['Occupation'])\n",
        "df_Product_Category_1 = pd.get_dummies(df['Product_Category_1'])\n",
        "df_Product_Category_2 = pd.get_dummies(df['Product_Category_2'])\n",
        "df_Product_Category_2 = pd.get_dummies(df['Product_Category_2'])\n",
        "df = pd.concat([df, df_Occupation, df_Product_Category_1, df_Product_Category_2, df_Gender, df_Age, df_City_Category, df_Stay_In_Current_City_Years], axis=1)\n",
        "df.head()\n",
        "df = df.drop(['Product_Category_1', 'Product_Category_2', 'Gender','Age', 'City_Category', 'Stay_In_Current_City_Years'], axis=1)\n"
      ],
      "execution_count": 283,
      "outputs": [
        {
          "output_type": "stream",
          "text": [
            "<class 'pandas.core.frame.DataFrame'>\n",
            "RangeIndex: 783667 entries, 0 to 783666\n",
            "Data columns (total 11 columns):\n",
            "Gender                        783667 non-null object\n",
            "Age                           783667 non-null object\n",
            "Occupation                    783667 non-null int64\n",
            "City_Category                 783667 non-null object\n",
            "Stay_In_Current_City_Years    783667 non-null object\n",
            "Marital_Status                783667 non-null int64\n",
            "Product_Category_1            783667 non-null int64\n",
            "Product_Category_2            783667 non-null float64\n",
            "Product_Category_3            783667 non-null float64\n",
            "Purchase                      550068 non-null float64\n",
            "source                        783667 non-null object\n",
            "dtypes: float64(3), int64(3), object(5)\n",
            "memory usage: 65.8+ MB\n"
          ],
          "name": "stdout"
        }
      ]
    },
    {
      "cell_type": "code",
      "metadata": {
        "id": "24DTnNRLCqgt",
        "colab_type": "code",
        "outputId": "f9e7b6d4-e5ff-4970-a28a-23f0e3002e12",
        "colab": {
          "base_uri": "https://localhost:8080/",
          "height": 129
        }
      },
      "source": [
        "train = df.loc[df['source']==\"train\"]\n",
        "test = df.loc[df['source']==\"test\"]\n",
        "test.drop(['source'],axis=1,inplace=True)\n",
        "train.drop(['source'],axis=1,inplace=True)"
      ],
      "execution_count": 284,
      "outputs": [
        {
          "output_type": "stream",
          "text": [
            "/usr/local/lib/python3.6/dist-packages/pandas/core/frame.py:4117: SettingWithCopyWarning: \n",
            "A value is trying to be set on a copy of a slice from a DataFrame\n",
            "\n",
            "See the caveats in the documentation: http://pandas.pydata.org/pandas-docs/stable/user_guide/indexing.html#returning-a-view-versus-a-copy\n",
            "  errors=errors,\n"
          ],
          "name": "stderr"
        }
      ]
    },
    {
      "cell_type": "code",
      "metadata": {
        "id": "BulYskdtCt3S",
        "colab_type": "code",
        "colab": {}
      },
      "source": [
        "#Save Files\n",
        "train.to_csv(\"train_modified.csv\",index=False)\n",
        "test.to_csv(\"test_modified.csv\",index=False)"
      ],
      "execution_count": 0,
      "outputs": []
    },
    {
      "cell_type": "code",
      "metadata": {
        "id": "vSXkCot_CyZ4",
        "colab_type": "code",
        "colab": {}
      },
      "source": [
        "#Load The Saved Files\n",
        "train_df = pd.read_csv('train_modified.csv')\n",
        "test_df = pd.read_csv('test_modified.csv')\n"
      ],
      "execution_count": 0,
      "outputs": []
    },
    {
      "cell_type": "code",
      "metadata": {
        "id": "C_iyb7LJC1zj",
        "colab_type": "code",
        "colab": {}
      },
      "source": [
        "final_df = train_df.drop(['Purchase'], axis=1)\n",
        "X = final_df \n",
        "y = train_df['Purchase']"
      ],
      "execution_count": 0,
      "outputs": []
    },
    {
      "cell_type": "code",
      "metadata": {
        "id": "T-ScFFyuDGQz",
        "colab_type": "code",
        "colab": {}
      },
      "source": [
        "#Train-Test-Split\n",
        "X_train, X_test, y_train, y_test = train_test_split(X, y, test_size=0.2)"
      ],
      "execution_count": 0,
      "outputs": []
    },
    {
      "cell_type": "code",
      "metadata": {
        "id": "sbJ7i8rJDOCP",
        "colab_type": "code",
        "colab": {}
      },
      "source": [
        "#Linear Regression\n",
        "lm = LinearRegression(normalize=True)\n",
        "lm.fit(X_train, y_train)\n",
        "lm.score(X_train, y_train)\n",
        "y_pred = lm.predict(X_test)\n",
        "lrscore = r2_score(y_test,y_pred)"
      ],
      "execution_count": 0,
      "outputs": []
    },
    {
      "cell_type": "code",
      "metadata": {
        "id": "CtuSc48ysPlr",
        "colab_type": "code",
        "colab": {
          "base_uri": "https://localhost:8080/",
          "height": 35
        },
        "outputId": "b51386e8-2a03-46d7-adc1-d6651e97daa1"
      },
      "source": [
        "#Cross Validation - Linear Regression\n",
        "scores = cross_val_score(lm, X_train, y_train, cv = 5)\n",
        "print(scores, np.mean(scores), np.std(scores))\n",
        "y_pred = cross_val_predict(lm, X_test, y_test, cv = 5)\n",
        "lrcvscore = r2_score(y_test, y_pred)"
      ],
      "execution_count": 296,
      "outputs": [
        {
          "output_type": "stream",
          "text": [
            "[0.64286362 0.64373941 0.64124463 0.64374405 0.64057865] 0.642434073019738 0.0013009090161090078\n"
          ],
          "name": "stdout"
        }
      ]
    },
    {
      "cell_type": "code",
      "metadata": {
        "id": "fkKiOW1hDSNi",
        "colab_type": "code",
        "colab": {}
      },
      "source": [
        "#Lasso\n",
        "LR = Lasso(alpha=0.05,normalize=True)\n",
        "LR.fit(X_train,y_train)\n",
        "y_pred = LR.predict(X_test)\n",
        "lassoscore = r2_score(y_test,y_pred)"
      ],
      "execution_count": 0,
      "outputs": []
    },
    {
      "cell_type": "code",
      "metadata": {
        "id": "8AS3WCAKErR5",
        "colab_type": "code",
        "outputId": "bdf4eed3-cfbf-491a-fdd8-c4e20c3f7196",
        "colab": {
          "base_uri": "https://localhost:8080/",
          "height": 74
        }
      },
      "source": [
        "#Cross Validation - Lasso\n",
        "alphas = 10**np.linspace(10,-2,100)*0.5\n",
        "lassocv = LassoCV(alphas = alphas, normalize = True)\n",
        "lassocv.fit(X, y)\n",
        "LRCV = Lasso(alpha=lassocv.alpha_,normalize=True)\n",
        "LRCV.fit(X_train, y_train)\n",
        "y_pred = LRCV.predict(X_test)\n",
        "lassocvscore = r2_score(y_test,y_pred)"
      ],
      "execution_count": 232,
      "outputs": [
        {
          "output_type": "stream",
          "text": [
            "/usr/local/lib/python3.6/dist-packages/sklearn/model_selection/_split.py:1978: FutureWarning: The default value of cv will change from 3 to 5 in version 0.22. Specify it explicitly to silence this warning.\n",
            "  warnings.warn(CV_WARNING, FutureWarning)\n"
          ],
          "name": "stderr"
        }
      ]
    },
    {
      "cell_type": "code",
      "metadata": {
        "id": "pcvV_QZLFUIy",
        "colab_type": "code",
        "colab": {}
      },
      "source": [
        "#Ridge\n",
        "RR = Ridge(alpha=0.05,normalize=True)\n",
        "RR.fit(X_train,y_train)\n",
        "y_pred = RR.predict(X_test)\n",
        "ridgescore = r2_score(y_test,y_pred)"
      ],
      "execution_count": 0,
      "outputs": []
    },
    {
      "cell_type": "code",
      "metadata": {
        "id": "OtT7LcN8LWtH",
        "colab_type": "code",
        "colab": {}
      },
      "source": [
        "#Cross Validation - Ridge\n",
        "alphas = 10**np.linspace(10,-2,100)*0.5\n",
        "ridgecv = RidgeCV(alphas = alphas, scoring = 'r2', normalize = True)\n",
        "ridgecv.fit(X, y)\n",
        "RRCV = Ridge(alpha=ridgecv.alpha_, normalize=True)\n",
        "RRCV.fit(X_train, y_train)\n",
        "y_pred = RRCV.predict(X_test)\n",
        "ridgecvscore = r2_score(y_test,y_pred)"
      ],
      "execution_count": 0,
      "outputs": []
    },
    {
      "cell_type": "code",
      "metadata": {
        "id": "_tBSOBu2LZxr",
        "colab_type": "code",
        "colab": {}
      },
      "source": [
        "#ElasticNet\n",
        "en = ElasticNet()\n",
        "en.fit(X_train,y_train)\n",
        "y_pred = en.predict(X_test)\n",
        "enscore = r2_score(y_test,y_pred)"
      ],
      "execution_count": 0,
      "outputs": []
    },
    {
      "cell_type": "code",
      "metadata": {
        "id": "XUe3zFaXLcai",
        "colab_type": "code",
        "colab": {}
      },
      "source": [
        "#Cross Validation - ElasticNet\n",
        "params = {\"alpha\":np.arange(0.1, 2, 0.1)}\n",
        "en_cv = GridSearchCV(estimator=en, param_grid=params, cv = 5)\n",
        "en_cv.fit(X_train,y_train)\n",
        "y_pred=en_cv.predict(X_test)\n",
        "encvscore = r2_score(y_test,y_pred)"
      ],
      "execution_count": 0,
      "outputs": []
    },
    {
      "cell_type": "code",
      "metadata": {
        "id": "-yxL1TjpLtCn",
        "colab_type": "code",
        "outputId": "b753d341-4b1f-4d05-abfd-b92655356631",
        "colab": {
          "base_uri": "https://localhost:8080/",
          "height": 109
        }
      },
      "source": [
        "print(en_cv.best_estimator_)\n",
        "print(en_cv.best_score_)\n",
        "print(en_cv.best_params_)"
      ],
      "execution_count": 237,
      "outputs": [
        {
          "output_type": "stream",
          "text": [
            "ElasticNet(alpha=0.1, copy_X=True, fit_intercept=True, l1_ratio=0.5,\n",
            "           max_iter=1000, normalize=False, positive=False, precompute=False,\n",
            "           random_state=None, selection='cyclic', tol=0.0001, warm_start=False)\n",
            "0.4585481247769708\n",
            "{'alpha': 0.1}\n"
          ],
          "name": "stdout"
        }
      ]
    },
    {
      "cell_type": "code",
      "metadata": {
        "id": "4_MTm_IvLv4i",
        "colab_type": "code",
        "colab": {}
      },
      "source": [
        "#############DECISION TREE\n",
        "train = pd.read_csv(\"train.csv\")\n",
        "test = pd.read_csv(\"test.csv\")\n",
        "train['source']='train'\n",
        "test['source']='test'\n",
        "df_dtr = pd.concat([train,test], ignore_index = True, sort = False)\n"
      ],
      "execution_count": 0,
      "outputs": []
    },
    {
      "cell_type": "code",
      "metadata": {
        "id": "qqKI9P_aAPch",
        "colab_type": "code",
        "colab": {}
      },
      "source": [
        "df_dtr.Product_Category_2.fillna(value = 0, inplace = True)\n",
        "df_dtr.Product_Category_3.fillna(value = 0, inplace = True)\n",
        "#Label Encoding\n",
        "df_dtr['User_ID']= label_encoder.fit_transform(df_dtr['User_ID'])\n",
        "df_dtr['Product_ID']= label_encoder.fit_transform(df_dtr['Product_ID'])\n",
        "df_dtr['Gender']= label_encoder.fit_transform(df_dtr['Gender'])\n",
        "df_dtr['Age']= label_encoder.fit_transform(df_dtr['Age'])\n",
        "df_dtr['Occupation']= label_encoder.fit_transform(df_dtr['Occupation'])\n",
        "df_dtr['City_Category']= label_encoder.fit_transform(df_dtr['City_Category'])\n",
        "df_dtr['Stay_In_Current_City_Years']= label_encoder.fit_transform(df_dtr['Stay_In_Current_City_Years'])"
      ],
      "execution_count": 0,
      "outputs": []
    },
    {
      "cell_type": "code",
      "metadata": {
        "id": "jdXqSbiMASrM",
        "colab_type": "code",
        "outputId": "d0e11266-c211-41d9-90b6-026b5cbb512c",
        "colab": {
          "base_uri": "https://localhost:8080/",
          "height": 129
        }
      },
      "source": [
        "train = df_dtr.loc[df_dtr['source']==\"train\"]\n",
        "test = df_dtr.loc[df_dtr['source']==\"test\"]\n",
        "test.drop(['source'],axis=1,inplace=True)\n",
        "train.drop(['source'],axis=1,inplace=True)"
      ],
      "execution_count": 261,
      "outputs": [
        {
          "output_type": "stream",
          "text": [
            "/usr/local/lib/python3.6/dist-packages/pandas/core/frame.py:4117: SettingWithCopyWarning: \n",
            "A value is trying to be set on a copy of a slice from a DataFrame\n",
            "\n",
            "See the caveats in the documentation: http://pandas.pydata.org/pandas-docs/stable/user_guide/indexing.html#returning-a-view-versus-a-copy\n",
            "  errors=errors,\n"
          ],
          "name": "stderr"
        }
      ]
    },
    {
      "cell_type": "code",
      "metadata": {
        "id": "qtx9eKtMAU-1",
        "colab_type": "code",
        "colab": {}
      },
      "source": [
        "#Save Files\n",
        "train.to_csv(\"train_dtr_modified.csv\",index=False)\n",
        "test.to_csv(\"test_dtr_modified.csv\",index=False)"
      ],
      "execution_count": 0,
      "outputs": []
    },
    {
      "cell_type": "code",
      "metadata": {
        "id": "slkdCLjAAcnZ",
        "colab_type": "code",
        "colab": {}
      },
      "source": [
        "#Load The Saved Files\n",
        "train_df = pd.read_csv('train_dtr_modified.csv')\n",
        "test_df = pd.read_csv('test_dtr_modified.csv')\n"
      ],
      "execution_count": 0,
      "outputs": []
    },
    {
      "cell_type": "code",
      "metadata": {
        "id": "hmWeMJ17BMsc",
        "colab_type": "code",
        "outputId": "b2186540-7a81-4ac2-99d5-8d49f98d0c9a",
        "colab": {
          "base_uri": "https://localhost:8080/",
          "height": 1000
        }
      },
      "source": [
        "#Correlation\n",
        "corrmat = df_dtr.corr()\n",
        "top_corr_features = corrmat.index\n",
        "plt.figure(figsize=(20,20))\n",
        "g=sns.heatmap(df_dtr[top_corr_features].corr(),annot=True,cmap=\"RdYlGn\")"
      ],
      "execution_count": 243,
      "outputs": [
        {
          "output_type": "display_data",
          "data": {
            "image/png": "[encoded data removed]",
            "text/plain": [
              "<Figure size 1440x1440 with 2 Axes>"
            ]
          },
          "metadata": {
            "tags": []
          }
        }
      ]
    },
    {
      "cell_type": "code",
      "metadata": {
        "id": "hMfZz7y1BNTR",
        "colab_type": "code",
        "colab": {}
      },
      "source": [
        "final_df = train_df.drop(['Purchase'], axis=1)\n",
        "X = final_df \n",
        "y = train_df['Purchase']"
      ],
      "execution_count": 0,
      "outputs": []
    },
    {
      "cell_type": "code",
      "metadata": {
        "id": "aXnrNBtkqJb4",
        "colab_type": "code",
        "colab": {
          "base_uri": "https://localhost:8080/",
          "height": 444
        },
        "outputId": "4aad1281-8aa7-4cf2-ae17-0eafd3b65e00"
      },
      "source": [
        "X"
      ],
      "execution_count": 274,
      "outputs": [
        {
          "output_type": "execute_result",
          "data": {
            "text/html": [
              "<div>\n",
              "<style scoped>\n",
              "    .dataframe tbody tr th:only-of-type {\n",
              "        vertical-align: middle;\n",
              "    }\n",
              "\n",
              "    .dataframe tbody tr th {\n",
              "        vertical-align: top;\n",
              "    }\n",
              "\n",
              "    .dataframe thead th {\n",
              "        text-align: right;\n",
              "    }\n",
              "</style>\n",
              "<table border=\"1\" class=\"dataframe\">\n",
              "  <thead>\n",
              "    <tr style=\"text-align: right;\">\n",
              "      <th></th>\n",
              "      <th>User_ID</th>\n",
              "      <th>Product_ID</th>\n",
              "      <th>Gender</th>\n",
              "      <th>Age</th>\n",
              "      <th>Occupation</th>\n",
              "      <th>City_Category</th>\n",
              "      <th>Stay_In_Current_City_Years</th>\n",
              "      <th>Marital_Status</th>\n",
              "      <th>Product_Category_1</th>\n",
              "      <th>Product_Category_2</th>\n",
              "      <th>Product_Category_3</th>\n",
              "    </tr>\n",
              "  </thead>\n",
              "  <tbody>\n",
              "    <tr>\n",
              "      <th>0</th>\n",
              "      <td>0</td>\n",
              "      <td>684</td>\n",
              "      <td>0</td>\n",
              "      <td>0</td>\n",
              "      <td>10</td>\n",
              "      <td>0</td>\n",
              "      <td>2</td>\n",
              "      <td>0</td>\n",
              "      <td>3</td>\n",
              "      <td>0</td>\n",
              "      <td>0</td>\n",
              "    </tr>\n",
              "    <tr>\n",
              "      <th>1</th>\n",
              "      <td>0</td>\n",
              "      <td>2406</td>\n",
              "      <td>0</td>\n",
              "      <td>0</td>\n",
              "      <td>10</td>\n",
              "      <td>0</td>\n",
              "      <td>2</td>\n",
              "      <td>0</td>\n",
              "      <td>1</td>\n",
              "      <td>5</td>\n",
              "      <td>11</td>\n",
              "    </tr>\n",
              "    <tr>\n",
              "      <th>2</th>\n",
              "      <td>0</td>\n",
              "      <td>868</td>\n",
              "      <td>0</td>\n",
              "      <td>0</td>\n",
              "      <td>10</td>\n",
              "      <td>0</td>\n",
              "      <td>2</td>\n",
              "      <td>0</td>\n",
              "      <td>12</td>\n",
              "      <td>0</td>\n",
              "      <td>0</td>\n",
              "    </tr>\n",
              "    <tr>\n",
              "      <th>3</th>\n",
              "      <td>0</td>\n",
              "      <td>844</td>\n",
              "      <td>0</td>\n",
              "      <td>0</td>\n",
              "      <td>10</td>\n",
              "      <td>0</td>\n",
              "      <td>2</td>\n",
              "      <td>0</td>\n",
              "      <td>12</td>\n",
              "      <td>13</td>\n",
              "      <td>0</td>\n",
              "    </tr>\n",
              "    <tr>\n",
              "      <th>4</th>\n",
              "      <td>1</td>\n",
              "      <td>2769</td>\n",
              "      <td>1</td>\n",
              "      <td>6</td>\n",
              "      <td>16</td>\n",
              "      <td>2</td>\n",
              "      <td>4</td>\n",
              "      <td>0</td>\n",
              "      <td>8</td>\n",
              "      <td>0</td>\n",
              "      <td>0</td>\n",
              "    </tr>\n",
              "    <tr>\n",
              "      <th>...</th>\n",
              "      <td>...</td>\n",
              "      <td>...</td>\n",
              "      <td>...</td>\n",
              "      <td>...</td>\n",
              "      <td>...</td>\n",
              "      <td>...</td>\n",
              "      <td>...</td>\n",
              "      <td>...</td>\n",
              "      <td>...</td>\n",
              "      <td>...</td>\n",
              "      <td>...</td>\n",
              "    </tr>\n",
              "    <tr>\n",
              "      <th>550063</th>\n",
              "      <td>5883</td>\n",
              "      <td>3612</td>\n",
              "      <td>1</td>\n",
              "      <td>5</td>\n",
              "      <td>13</td>\n",
              "      <td>1</td>\n",
              "      <td>1</td>\n",
              "      <td>1</td>\n",
              "      <td>20</td>\n",
              "      <td>0</td>\n",
              "      <td>0</td>\n",
              "    </tr>\n",
              "    <tr>\n",
              "      <th>550064</th>\n",
              "      <td>5885</td>\n",
              "      <td>3613</td>\n",
              "      <td>0</td>\n",
              "      <td>2</td>\n",
              "      <td>1</td>\n",
              "      <td>2</td>\n",
              "      <td>3</td>\n",
              "      <td>0</td>\n",
              "      <td>20</td>\n",
              "      <td>0</td>\n",
              "      <td>0</td>\n",
              "    </tr>\n",
              "    <tr>\n",
              "      <th>550065</th>\n",
              "      <td>5886</td>\n",
              "      <td>3613</td>\n",
              "      <td>0</td>\n",
              "      <td>2</td>\n",
              "      <td>15</td>\n",
              "      <td>1</td>\n",
              "      <td>4</td>\n",
              "      <td>1</td>\n",
              "      <td>20</td>\n",
              "      <td>0</td>\n",
              "      <td>0</td>\n",
              "    </tr>\n",
              "    <tr>\n",
              "      <th>550066</th>\n",
              "      <td>5888</td>\n",
              "      <td>3613</td>\n",
              "      <td>0</td>\n",
              "      <td>6</td>\n",
              "      <td>1</td>\n",
              "      <td>2</td>\n",
              "      <td>2</td>\n",
              "      <td>0</td>\n",
              "      <td>20</td>\n",
              "      <td>0</td>\n",
              "      <td>0</td>\n",
              "    </tr>\n",
              "    <tr>\n",
              "      <th>550067</th>\n",
              "      <td>5889</td>\n",
              "      <td>3611</td>\n",
              "      <td>0</td>\n",
              "      <td>4</td>\n",
              "      <td>0</td>\n",
              "      <td>1</td>\n",
              "      <td>4</td>\n",
              "      <td>1</td>\n",
              "      <td>20</td>\n",
              "      <td>0</td>\n",
              "      <td>0</td>\n",
              "    </tr>\n",
              "  </tbody>\n",
              "</table>\n",
              "<p>550068 rows × 11 columns</p>\n",
              "</div>"
            ],
            "text/plain": [
              "        User_ID  Product_ID  ...  Product_Category_2  Product_Category_3\n",
              "0             0         684  ...                   0                   0\n",
              "1             0        2406  ...                   5                  11\n",
              "2             0         868  ...                   0                   0\n",
              "3             0         844  ...                  13                   0\n",
              "4             1        2769  ...                   0                   0\n",
              "...         ...         ...  ...                 ...                 ...\n",
              "550063     5883        3612  ...                   0                   0\n",
              "550064     5885        3613  ...                   0                   0\n",
              "550065     5886        3613  ...                   0                   0\n",
              "550066     5888        3613  ...                   0                   0\n",
              "550067     5889        3611  ...                   0                   0\n",
              "\n",
              "[550068 rows x 11 columns]"
            ]
          },
          "metadata": {
            "tags": []
          },
          "execution_count": 274
        }
      ]
    },
    {
      "cell_type": "code",
      "metadata": {
        "id": "6krE969GBQP6",
        "colab_type": "code",
        "colab": {}
      },
      "source": [
        "#Train Test Split\n",
        "X_train, X_test, y_train, y_test = train_test_split(X, y, test_size=0.2)"
      ],
      "execution_count": 0,
      "outputs": []
    },
    {
      "cell_type": "code",
      "metadata": {
        "id": "jM5DX527BSkM",
        "colab_type": "code",
        "colab": {}
      },
      "source": [
        "#Decision Tree Regressor\n",
        "dtr = DecisionTreeRegressor()\n",
        "dtr.fit(X_train,y_train)\n",
        "y_pred = dtr.predict(X_test)\n",
        "dtr.score(X_train, y_train)\n",
        "dtrscore = r2_score(y_test,y_pred)"
      ],
      "execution_count": 0,
      "outputs": []
    },
    {
      "cell_type": "code",
      "metadata": {
        "id": "GSseANvvBUqb",
        "colab_type": "code",
        "outputId": "ac7ed77e-eba7-4a0f-eb17-e484e71b82bd",
        "colab": {
          "base_uri": "https://localhost:8080/",
          "height": 184
        }
      },
      "source": [
        "#Decision Tree Using Grid Search CV\n",
        "params = {\"max_depth\":np.arange(10,20,2)}\n",
        "dtr_cv = GridSearchCV(estimator=dtr, param_grid=params)\n",
        "dtr_cv.fit(X,y)\n",
        "y_pred = dtr_cv.predict(X_test)\n",
        "dtr_cv.score(X_train, y_train)\n",
        "dtrcvscore = r2_score(y_test,y_pred)\n",
        "print(dtr_cv.best_estimator_)\n",
        "print(dtrcvscore)"
      ],
      "execution_count": 267,
      "outputs": [
        {
          "output_type": "stream",
          "text": [
            "/usr/local/lib/python3.6/dist-packages/sklearn/model_selection/_split.py:1978: FutureWarning: The default value of cv will change from 3 to 5 in version 0.22. Specify it explicitly to silence this warning.\n",
            "  warnings.warn(CV_WARNING, FutureWarning)\n"
          ],
          "name": "stderr"
        },
        {
          "output_type": "stream",
          "text": [
            "DecisionTreeRegressor(criterion='mse', max_depth=12, max_features=None,\n",
            "                      max_leaf_nodes=None, min_impurity_decrease=0.0,\n",
            "                      min_impurity_split=None, min_samples_leaf=1,\n",
            "                      min_samples_split=2, min_weight_fraction_leaf=0.0,\n",
            "                      presort=False, random_state=None, splitter='best')\n",
            "0.7112865903589505\n"
          ],
          "name": "stdout"
        }
      ]
    },
    {
      "cell_type": "code",
      "metadata": {
        "id": "dpNU8SVsBfX4",
        "colab_type": "code",
        "outputId": "2abf3d0a-9356-4f96-d73c-ebdad79f1171",
        "colab": {
          "base_uri": "https://localhost:8080/",
          "height": 394
        }
      },
      "source": [
        "#Features\n",
        "rankings = dtr_cv.best_estimator_.feature_importances_.tolist()\n",
        "features = list(X)\n",
        "d = dict(zip(features,rankings))\n",
        "d = pd.DataFrame(list(d.items()), columns=[\"features\", \"ranking\"])\n",
        "d.sort_values([\"ranking\"], ascending=False)"
      ],
      "execution_count": 268,
      "outputs": [
        {
          "output_type": "execute_result",
          "data": {
            "text/html": [
              "<div>\n",
              "<style scoped>\n",
              "    .dataframe tbody tr th:only-of-type {\n",
              "        vertical-align: middle;\n",
              "    }\n",
              "\n",
              "    .dataframe tbody tr th {\n",
              "        vertical-align: top;\n",
              "    }\n",
              "\n",
              "    .dataframe thead th {\n",
              "        text-align: right;\n",
              "    }\n",
              "</style>\n",
              "<table border=\"1\" class=\"dataframe\">\n",
              "  <thead>\n",
              "    <tr style=\"text-align: right;\">\n",
              "      <th></th>\n",
              "      <th>features</th>\n",
              "      <th>ranking</th>\n",
              "    </tr>\n",
              "  </thead>\n",
              "  <tbody>\n",
              "    <tr>\n",
              "      <th>8</th>\n",
              "      <td>Product_Category_1</td>\n",
              "      <td>0.897198</td>\n",
              "    </tr>\n",
              "    <tr>\n",
              "      <th>1</th>\n",
              "      <td>Product_ID</td>\n",
              "      <td>0.064614</td>\n",
              "    </tr>\n",
              "    <tr>\n",
              "      <th>9</th>\n",
              "      <td>Product_Category_2</td>\n",
              "      <td>0.012282</td>\n",
              "    </tr>\n",
              "    <tr>\n",
              "      <th>10</th>\n",
              "      <td>Product_Category_3</td>\n",
              "      <td>0.011498</td>\n",
              "    </tr>\n",
              "    <tr>\n",
              "      <th>0</th>\n",
              "      <td>User_ID</td>\n",
              "      <td>0.004785</td>\n",
              "    </tr>\n",
              "    <tr>\n",
              "      <th>5</th>\n",
              "      <td>City_Category</td>\n",
              "      <td>0.002827</td>\n",
              "    </tr>\n",
              "    <tr>\n",
              "      <th>3</th>\n",
              "      <td>Age</td>\n",
              "      <td>0.002579</td>\n",
              "    </tr>\n",
              "    <tr>\n",
              "      <th>4</th>\n",
              "      <td>Occupation</td>\n",
              "      <td>0.001952</td>\n",
              "    </tr>\n",
              "    <tr>\n",
              "      <th>2</th>\n",
              "      <td>Gender</td>\n",
              "      <td>0.001001</td>\n",
              "    </tr>\n",
              "    <tr>\n",
              "      <th>6</th>\n",
              "      <td>Stay_In_Current_City_Years</td>\n",
              "      <td>0.000902</td>\n",
              "    </tr>\n",
              "    <tr>\n",
              "      <th>7</th>\n",
              "      <td>Marital_Status</td>\n",
              "      <td>0.000362</td>\n",
              "    </tr>\n",
              "  </tbody>\n",
              "</table>\n",
              "</div>"
            ],
            "text/plain": [
              "                      features   ranking\n",
              "8           Product_Category_1  0.897198\n",
              "1                   Product_ID  0.064614\n",
              "9           Product_Category_2  0.012282\n",
              "10          Product_Category_3  0.011498\n",
              "0                      User_ID  0.004785\n",
              "5                City_Category  0.002827\n",
              "3                          Age  0.002579\n",
              "4                   Occupation  0.001952\n",
              "2                       Gender  0.001001\n",
              "6   Stay_In_Current_City_Years  0.000902\n",
              "7               Marital_Status  0.000362"
            ]
          },
          "metadata": {
            "tags": []
          },
          "execution_count": 268
        }
      ]
    },
    {
      "cell_type": "code",
      "metadata": {
        "id": "g2KNRbxaBgav",
        "colab_type": "code",
        "outputId": "fec47950-1998-458f-a4cc-d91e7d0cbb43",
        "colab": {
          "base_uri": "https://localhost:8080/",
          "height": 206
        }
      },
      "source": [
        "#Check For Output File\n",
        "#test_df = test_df.drop(['Purchase'], axis=1)\n",
        "test_pred = dtr_cv.predict(test_df)\n",
        "test = pd.read_csv(\"test.csv\")\n",
        "new = test[['User_ID', 'Product_ID']].copy()\n",
        "new['Purchase'] = test_pred\n",
        "new.head()"
      ],
      "execution_count": 271,
      "outputs": [
        {
          "output_type": "execute_result",
          "data": {
            "text/html": [
              "<div>\n",
              "<style scoped>\n",
              "    .dataframe tbody tr th:only-of-type {\n",
              "        vertical-align: middle;\n",
              "    }\n",
              "\n",
              "    .dataframe tbody tr th {\n",
              "        vertical-align: top;\n",
              "    }\n",
              "\n",
              "    .dataframe thead th {\n",
              "        text-align: right;\n",
              "    }\n",
              "</style>\n",
              "<table border=\"1\" class=\"dataframe\">\n",
              "  <thead>\n",
              "    <tr style=\"text-align: right;\">\n",
              "      <th></th>\n",
              "      <th>User_ID</th>\n",
              "      <th>Product_ID</th>\n",
              "      <th>Purchase</th>\n",
              "    </tr>\n",
              "  </thead>\n",
              "  <tbody>\n",
              "    <tr>\n",
              "      <th>0</th>\n",
              "      <td>1000004</td>\n",
              "      <td>P00128942</td>\n",
              "      <td>14015.238095</td>\n",
              "    </tr>\n",
              "    <tr>\n",
              "      <th>1</th>\n",
              "      <td>1000009</td>\n",
              "      <td>P00113442</td>\n",
              "      <td>11442.781609</td>\n",
              "    </tr>\n",
              "    <tr>\n",
              "      <th>2</th>\n",
              "      <td>1000010</td>\n",
              "      <td>P00288442</td>\n",
              "      <td>6213.817961</td>\n",
              "    </tr>\n",
              "    <tr>\n",
              "      <th>3</th>\n",
              "      <td>1000010</td>\n",
              "      <td>P00145342</td>\n",
              "      <td>2352.226667</td>\n",
              "    </tr>\n",
              "    <tr>\n",
              "      <th>4</th>\n",
              "      <td>1000011</td>\n",
              "      <td>P00053842</td>\n",
              "      <td>2705.083799</td>\n",
              "    </tr>\n",
              "  </tbody>\n",
              "</table>\n",
              "</div>"
            ],
            "text/plain": [
              "   User_ID Product_ID      Purchase\n",
              "0  1000004  P00128942  14015.238095\n",
              "1  1000009  P00113442  11442.781609\n",
              "2  1000010  P00288442   6213.817961\n",
              "3  1000010  P00145342   2352.226667\n",
              "4  1000011  P00053842   2705.083799"
            ]
          },
          "metadata": {
            "tags": []
          },
          "execution_count": 271
        }
      ]
    },
    {
      "cell_type": "code",
      "metadata": {
        "id": "R8frn2k6CyDY",
        "colab_type": "code",
        "colab": {}
      },
      "source": [
        "new.to_csv('output.csv',index=False)"
      ],
      "execution_count": 0,
      "outputs": []
    },
    {
      "cell_type": "code",
      "metadata": {
        "id": "XFcJ5sOaN5LK",
        "colab_type": "code",
        "outputId": "69925ccb-1a96-49e6-f662-c2f3afb19285",
        "colab": {
          "base_uri": "https://localhost:8080/",
          "height": 127
        }
      },
      "source": [
        "data = {'Method':['Linear Regression', 'Lasso', 'Ridge', 'ElasticNet', 'Decision Tree'],'R2 Score':[lrscore,lassocvscore,ridgecvscore,encvscore,dtrcvscore]}\n",
        "df = pd.DataFrame(data)\n",
        "print(df)"
      ],
      "execution_count": 273,
      "outputs": [
        {
          "output_type": "stream",
          "text": [
            "              Method  R2 Score\n",
            "0  Linear Regression  0.641030\n",
            "1              Lasso  0.637949\n",
            "2              Ridge  0.641040\n",
            "3         ElasticNet  0.459414\n",
            "4      Decision Tree  0.711287\n"
          ],
          "name": "stdout"
        }
      ]
    },
    {
      "cell_type": "code",
      "metadata": {
        "id": "Qh0EmPFcVk-o",
        "colab_type": "code",
        "outputId": "5d1b81f3-a35b-448c-ff7a-d9f2876de1e4",
        "colab": {
          "base_uri": "https://localhost:8080/",
          "height": 35
        }
      },
      "source": [
        "dtrcvscore"
      ],
      "execution_count": 252,
      "outputs": [
        {
          "output_type": "execute_result",
          "data": {
            "text/plain": [
              "0.7096561193736206"
            ]
          },
          "metadata": {
            "tags": []
          },
          "execution_count": 252
        }
      ]
    },
    {
      "cell_type": "code",
      "metadata": {
        "id": "MhYOyfNIVmVj",
        "colab_type": "code",
        "colab": {}
      },
      "source": [
        ""
      ],
      "execution_count": 0,
      "outputs": []
    }
  ]
}